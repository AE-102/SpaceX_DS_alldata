{
 "cells": [
  {
   "cell_type": "markdown",
   "id": "efc45c82-65af-4dbc-9285-220eabe5d6f7",
   "metadata": {},
   "source": [
    "### Data Collection"
   ]
  },
  {
   "cell_type": "code",
   "execution_count": 1,
   "id": "422a064c-46eb-4bec-95ec-9c8cea99c67b",
   "metadata": {},
   "outputs": [],
   "source": [
    "import pandas as pd\n",
    "import numpy as np\n",
    "import datetime\n",
    "import requests"
   ]
  },
  {
   "cell_type": "code",
   "execution_count": 2,
   "id": "a98ad779-6f3c-4a2e-a5aa-8f92c9a99f58",
   "metadata": {},
   "outputs": [],
   "source": [
    "spacex_url = \"https://api.spacexdata.com/v4/launches/past\"\n",
    "response = requests.get(spacex_url)"
   ]
  },
  {
   "cell_type": "code",
   "execution_count": 3,
   "id": "78ef0193-bcfd-42eb-873a-d4feb706e68a",
   "metadata": {},
   "outputs": [
    {
     "data": {
      "text/plain": [
       "200"
      ]
     },
     "execution_count": 3,
     "metadata": {},
     "output_type": "execute_result"
    }
   ],
   "source": [
    "response.status_code"
   ]
  },
  {
   "cell_type": "code",
   "execution_count": 4,
   "id": "9f74e04f-e538-4a70-828c-50de571189f9",
   "metadata": {},
   "outputs": [
    {
     "data": {
      "text/plain": [
       "b'[{\"fairings\":{\"reused\":false,\"recovery_attempt\":false,\"recovered\":false,\"ships\":[]},\"links\":{\"patch\":{\"small\":\"https://images2.imgbox.com/94/f2/NN6Ph45r_o.png\",\"large\":\"https://images2.imgbox.com/5b/02/QcxHUb5V_o.png\"},\"reddit\":{\"campaign\":null,\"launch\":null,\"media\":null,\"recovery\":null},\"flickr\":{\"small\":[],\"original\":[]},\"presskit\":null,\"webcast\":\"https://www.youtube.com/watch?v=0a_00nJ_Y88\",\"youtube_id\":\"0a_00nJ_Y88\",\"article\":\"https://www.space.com/2196-spacex-inaugural-falcon-1-rocket-lost-launch.html\",\"wikipedia\":\"https://en.wikipedia.org/wiki/DemoSat\"},\"static_fire_date_utc\":\"2006-03-17T00:00:00.000Z\",\"static_fire_date_unix\":1142553600,\"net\":false,\"window\":0,\"rocket\":\"5e9d0d95eda69955f709d1eb\",\"success\":false,\"failures\":[{\"time\":33,\"altitude\":null,\"reason\":\"merlin engine failure\"}],\"details\":\"Engine failure at 33 seconds and loss of vehicle\",\"crew\":[],\"ships\":[],\"capsules\":[],\"payloads\":[\"5eb0e4b5b6c3bb0006eeb1e1\"],\"launchpad\":\"5e9e4502f5090995de566f86\",\"flight_number\":1,\"name\":'"
      ]
     },
     "execution_count": 4,
     "metadata": {},
     "output_type": "execute_result"
    }
   ],
   "source": [
    "response.content[0:1000]"
   ]
  },
  {
   "cell_type": "code",
   "execution_count": 5,
   "id": "a6bc0df3-967e-4fac-93c1-15c4caa928fb",
   "metadata": {},
   "outputs": [],
   "source": [
    "stage1 = response.json()"
   ]
  },
  {
   "cell_type": "code",
   "execution_count": 6,
   "id": "018a485e-fe0c-498b-9039-2c70e5feeaf7",
   "metadata": {},
   "outputs": [
    {
     "data": {
      "text/plain": [
       "187"
      ]
     },
     "execution_count": 6,
     "metadata": {},
     "output_type": "execute_result"
    }
   ],
   "source": [
    "len(stage1)"
   ]
  },
  {
   "cell_type": "code",
   "execution_count": 7,
   "id": "6b675da4-3bac-4d14-9392-9727e55d1c68",
   "metadata": {},
   "outputs": [
    {
     "data": {
      "text/plain": [
       "{'fairings': {'reused': False,\n",
       "  'recovery_attempt': False,\n",
       "  'recovered': False,\n",
       "  'ships': []},\n",
       " 'links': {'patch': {'small': 'https://images2.imgbox.com/94/f2/NN6Ph45r_o.png',\n",
       "   'large': 'https://images2.imgbox.com/5b/02/QcxHUb5V_o.png'},\n",
       "  'reddit': {'campaign': None,\n",
       "   'launch': None,\n",
       "   'media': None,\n",
       "   'recovery': None},\n",
       "  'flickr': {'small': [], 'original': []},\n",
       "  'presskit': None,\n",
       "  'webcast': 'https://www.youtube.com/watch?v=0a_00nJ_Y88',\n",
       "  'youtube_id': '0a_00nJ_Y88',\n",
       "  'article': 'https://www.space.com/2196-spacex-inaugural-falcon-1-rocket-lost-launch.html',\n",
       "  'wikipedia': 'https://en.wikipedia.org/wiki/DemoSat'},\n",
       " 'static_fire_date_utc': '2006-03-17T00:00:00.000Z',\n",
       " 'static_fire_date_unix': 1142553600,\n",
       " 'net': False,\n",
       " 'window': 0,\n",
       " 'rocket': '5e9d0d95eda69955f709d1eb',\n",
       " 'success': False,\n",
       " 'failures': [{'time': 33,\n",
       "   'altitude': None,\n",
       "   'reason': 'merlin engine failure'}],\n",
       " 'details': 'Engine failure at 33 seconds and loss of vehicle',\n",
       " 'crew': [],\n",
       " 'ships': [],\n",
       " 'capsules': [],\n",
       " 'payloads': ['5eb0e4b5b6c3bb0006eeb1e1'],\n",
       " 'launchpad': '5e9e4502f5090995de566f86',\n",
       " 'flight_number': 1,\n",
       " 'name': 'FalconSat',\n",
       " 'date_utc': '2006-03-24T22:30:00.000Z',\n",
       " 'date_unix': 1143239400,\n",
       " 'date_local': '2006-03-25T10:30:00+12:00',\n",
       " 'date_precision': 'hour',\n",
       " 'upcoming': False,\n",
       " 'cores': [{'core': '5e9e289df35918033d3b2623',\n",
       "   'flight': 1,\n",
       "   'gridfins': False,\n",
       "   'legs': False,\n",
       "   'reused': False,\n",
       "   'landing_attempt': False,\n",
       "   'landing_success': None,\n",
       "   'landing_type': None,\n",
       "   'landpad': None}],\n",
       " 'auto_update': True,\n",
       " 'tbd': False,\n",
       " 'launch_library_id': None,\n",
       " 'id': '5eb87cd9ffd86e000604b32a'}"
      ]
     },
     "execution_count": 7,
     "metadata": {},
     "output_type": "execute_result"
    }
   ],
   "source": [
    "stage1[0]"
   ]
  },
  {
   "cell_type": "code",
   "execution_count": 8,
   "id": "79a6ba80-5ab2-4676-8608-569c3cd0db5b",
   "metadata": {},
   "outputs": [],
   "source": [
    "data = pd.json_normalize(stage1)"
   ]
  },
  {
   "cell_type": "code",
   "execution_count": 9,
   "id": "2703a691-bcd6-4af2-a0a0-8397a8f2e3b4",
   "metadata": {},
   "outputs": [
    {
     "data": {
      "text/plain": [
       "(187, 43)"
      ]
     },
     "execution_count": 9,
     "metadata": {},
     "output_type": "execute_result"
    }
   ],
   "source": [
    "data.shape"
   ]
  },
  {
   "cell_type": "code",
   "execution_count": 10,
   "id": "ff081fe0-1808-4435-a934-6cd49abafe64",
   "metadata": {},
   "outputs": [
    {
     "data": {
      "text/plain": [
       "8041"
      ]
     },
     "execution_count": 10,
     "metadata": {},
     "output_type": "execute_result"
    }
   ],
   "source": [
    "data.size"
   ]
  },
  {
   "cell_type": "code",
   "execution_count": 11,
   "id": "852cf299-7977-4e46-a33a-cecbba45bfa0",
   "metadata": {},
   "outputs": [
    {
     "data": {
      "text/html": [
       "<div>\n",
       "<style scoped>\n",
       "    .dataframe tbody tr th:only-of-type {\n",
       "        vertical-align: middle;\n",
       "    }\n",
       "\n",
       "    .dataframe tbody tr th {\n",
       "        vertical-align: top;\n",
       "    }\n",
       "\n",
       "    .dataframe thead th {\n",
       "        text-align: right;\n",
       "    }\n",
       "</style>\n",
       "<table border=\"1\" class=\"dataframe\">\n",
       "  <thead>\n",
       "    <tr style=\"text-align: right;\">\n",
       "      <th></th>\n",
       "      <th>static_fire_date_utc</th>\n",
       "      <th>static_fire_date_unix</th>\n",
       "      <th>net</th>\n",
       "      <th>window</th>\n",
       "      <th>rocket</th>\n",
       "      <th>success</th>\n",
       "      <th>failures</th>\n",
       "      <th>details</th>\n",
       "      <th>crew</th>\n",
       "      <th>ships</th>\n",
       "      <th>...</th>\n",
       "      <th>links.reddit.media</th>\n",
       "      <th>links.reddit.recovery</th>\n",
       "      <th>links.flickr.small</th>\n",
       "      <th>links.flickr.original</th>\n",
       "      <th>links.presskit</th>\n",
       "      <th>links.webcast</th>\n",
       "      <th>links.youtube_id</th>\n",
       "      <th>links.article</th>\n",
       "      <th>links.wikipedia</th>\n",
       "      <th>fairings</th>\n",
       "    </tr>\n",
       "  </thead>\n",
       "  <tbody>\n",
       "    <tr>\n",
       "      <th>0</th>\n",
       "      <td>2006-03-17T00:00:00.000Z</td>\n",
       "      <td>1.142554e+09</td>\n",
       "      <td>False</td>\n",
       "      <td>0.0</td>\n",
       "      <td>5e9d0d95eda69955f709d1eb</td>\n",
       "      <td>False</td>\n",
       "      <td>[{'time': 33, 'altitude': None, 'reason': 'mer...</td>\n",
       "      <td>Engine failure at 33 seconds and loss of vehicle</td>\n",
       "      <td>[]</td>\n",
       "      <td>[]</td>\n",
       "      <td>...</td>\n",
       "      <td>None</td>\n",
       "      <td>None</td>\n",
       "      <td>[]</td>\n",
       "      <td>[]</td>\n",
       "      <td>None</td>\n",
       "      <td>https://www.youtube.com/watch?v=0a_00nJ_Y88</td>\n",
       "      <td>0a_00nJ_Y88</td>\n",
       "      <td>https://www.space.com/2196-spacex-inaugural-fa...</td>\n",
       "      <td>https://en.wikipedia.org/wiki/DemoSat</td>\n",
       "      <td>NaN</td>\n",
       "    </tr>\n",
       "    <tr>\n",
       "      <th>1</th>\n",
       "      <td>None</td>\n",
       "      <td>NaN</td>\n",
       "      <td>False</td>\n",
       "      <td>0.0</td>\n",
       "      <td>5e9d0d95eda69955f709d1eb</td>\n",
       "      <td>False</td>\n",
       "      <td>[{'time': 301, 'altitude': 289, 'reason': 'har...</td>\n",
       "      <td>Successful first stage burn and transition to ...</td>\n",
       "      <td>[]</td>\n",
       "      <td>[]</td>\n",
       "      <td>...</td>\n",
       "      <td>None</td>\n",
       "      <td>None</td>\n",
       "      <td>[]</td>\n",
       "      <td>[]</td>\n",
       "      <td>None</td>\n",
       "      <td>https://www.youtube.com/watch?v=Lk4zQ2wP-Nc</td>\n",
       "      <td>Lk4zQ2wP-Nc</td>\n",
       "      <td>https://www.space.com/3590-spacex-falcon-1-roc...</td>\n",
       "      <td>https://en.wikipedia.org/wiki/DemoSat</td>\n",
       "      <td>NaN</td>\n",
       "    </tr>\n",
       "    <tr>\n",
       "      <th>2</th>\n",
       "      <td>None</td>\n",
       "      <td>NaN</td>\n",
       "      <td>False</td>\n",
       "      <td>0.0</td>\n",
       "      <td>5e9d0d95eda69955f709d1eb</td>\n",
       "      <td>False</td>\n",
       "      <td>[{'time': 140, 'altitude': 35, 'reason': 'resi...</td>\n",
       "      <td>Residual stage 1 thrust led to collision betwe...</td>\n",
       "      <td>[]</td>\n",
       "      <td>[]</td>\n",
       "      <td>...</td>\n",
       "      <td>None</td>\n",
       "      <td>None</td>\n",
       "      <td>[]</td>\n",
       "      <td>[]</td>\n",
       "      <td>None</td>\n",
       "      <td>https://www.youtube.com/watch?v=v0w9p3U8860</td>\n",
       "      <td>v0w9p3U8860</td>\n",
       "      <td>http://www.spacex.com/news/2013/02/11/falcon-1...</td>\n",
       "      <td>https://en.wikipedia.org/wiki/Trailblazer_(sat...</td>\n",
       "      <td>NaN</td>\n",
       "    </tr>\n",
       "    <tr>\n",
       "      <th>3</th>\n",
       "      <td>2008-09-20T00:00:00.000Z</td>\n",
       "      <td>1.221869e+09</td>\n",
       "      <td>False</td>\n",
       "      <td>0.0</td>\n",
       "      <td>5e9d0d95eda69955f709d1eb</td>\n",
       "      <td>True</td>\n",
       "      <td>[]</td>\n",
       "      <td>Ratsat was carried to orbit on the first succe...</td>\n",
       "      <td>[]</td>\n",
       "      <td>[]</td>\n",
       "      <td>...</td>\n",
       "      <td>None</td>\n",
       "      <td>None</td>\n",
       "      <td>[]</td>\n",
       "      <td>[]</td>\n",
       "      <td>None</td>\n",
       "      <td>https://www.youtube.com/watch?v=dLQ2tZEH6G0</td>\n",
       "      <td>dLQ2tZEH6G0</td>\n",
       "      <td>https://en.wikipedia.org/wiki/Ratsat</td>\n",
       "      <td>https://en.wikipedia.org/wiki/Ratsat</td>\n",
       "      <td>NaN</td>\n",
       "    </tr>\n",
       "    <tr>\n",
       "      <th>4</th>\n",
       "      <td>None</td>\n",
       "      <td>NaN</td>\n",
       "      <td>False</td>\n",
       "      <td>0.0</td>\n",
       "      <td>5e9d0d95eda69955f709d1eb</td>\n",
       "      <td>True</td>\n",
       "      <td>[]</td>\n",
       "      <td>None</td>\n",
       "      <td>[]</td>\n",
       "      <td>[]</td>\n",
       "      <td>...</td>\n",
       "      <td>None</td>\n",
       "      <td>None</td>\n",
       "      <td>[]</td>\n",
       "      <td>[]</td>\n",
       "      <td>http://www.spacex.com/press/2012/12/19/spacexs...</td>\n",
       "      <td>https://www.youtube.com/watch?v=yTaIDooc8Og</td>\n",
       "      <td>yTaIDooc8Og</td>\n",
       "      <td>http://www.spacex.com/news/2013/02/12/falcon-1...</td>\n",
       "      <td>https://en.wikipedia.org/wiki/RazakSAT</td>\n",
       "      <td>NaN</td>\n",
       "    </tr>\n",
       "  </tbody>\n",
       "</table>\n",
       "<p>5 rows × 43 columns</p>\n",
       "</div>"
      ],
      "text/plain": [
       "       static_fire_date_utc  static_fire_date_unix    net  window  \\\n",
       "0  2006-03-17T00:00:00.000Z           1.142554e+09  False     0.0   \n",
       "1                      None                    NaN  False     0.0   \n",
       "2                      None                    NaN  False     0.0   \n",
       "3  2008-09-20T00:00:00.000Z           1.221869e+09  False     0.0   \n",
       "4                      None                    NaN  False     0.0   \n",
       "\n",
       "                     rocket success  \\\n",
       "0  5e9d0d95eda69955f709d1eb   False   \n",
       "1  5e9d0d95eda69955f709d1eb   False   \n",
       "2  5e9d0d95eda69955f709d1eb   False   \n",
       "3  5e9d0d95eda69955f709d1eb    True   \n",
       "4  5e9d0d95eda69955f709d1eb    True   \n",
       "\n",
       "                                            failures  \\\n",
       "0  [{'time': 33, 'altitude': None, 'reason': 'mer...   \n",
       "1  [{'time': 301, 'altitude': 289, 'reason': 'har...   \n",
       "2  [{'time': 140, 'altitude': 35, 'reason': 'resi...   \n",
       "3                                                 []   \n",
       "4                                                 []   \n",
       "\n",
       "                                             details crew ships  ...  \\\n",
       "0   Engine failure at 33 seconds and loss of vehicle   []    []  ...   \n",
       "1  Successful first stage burn and transition to ...   []    []  ...   \n",
       "2  Residual stage 1 thrust led to collision betwe...   []    []  ...   \n",
       "3  Ratsat was carried to orbit on the first succe...   []    []  ...   \n",
       "4                                               None   []    []  ...   \n",
       "\n",
       "  links.reddit.media links.reddit.recovery links.flickr.small  \\\n",
       "0               None                  None                 []   \n",
       "1               None                  None                 []   \n",
       "2               None                  None                 []   \n",
       "3               None                  None                 []   \n",
       "4               None                  None                 []   \n",
       "\n",
       "   links.flickr.original                                     links.presskit  \\\n",
       "0                     []                                               None   \n",
       "1                     []                                               None   \n",
       "2                     []                                               None   \n",
       "3                     []                                               None   \n",
       "4                     []  http://www.spacex.com/press/2012/12/19/spacexs...   \n",
       "\n",
       "                                 links.webcast  links.youtube_id  \\\n",
       "0  https://www.youtube.com/watch?v=0a_00nJ_Y88       0a_00nJ_Y88   \n",
       "1  https://www.youtube.com/watch?v=Lk4zQ2wP-Nc       Lk4zQ2wP-Nc   \n",
       "2  https://www.youtube.com/watch?v=v0w9p3U8860       v0w9p3U8860   \n",
       "3  https://www.youtube.com/watch?v=dLQ2tZEH6G0       dLQ2tZEH6G0   \n",
       "4  https://www.youtube.com/watch?v=yTaIDooc8Og       yTaIDooc8Og   \n",
       "\n",
       "                                       links.article  \\\n",
       "0  https://www.space.com/2196-spacex-inaugural-fa...   \n",
       "1  https://www.space.com/3590-spacex-falcon-1-roc...   \n",
       "2  http://www.spacex.com/news/2013/02/11/falcon-1...   \n",
       "3               https://en.wikipedia.org/wiki/Ratsat   \n",
       "4  http://www.spacex.com/news/2013/02/12/falcon-1...   \n",
       "\n",
       "                                     links.wikipedia  fairings  \n",
       "0              https://en.wikipedia.org/wiki/DemoSat       NaN  \n",
       "1              https://en.wikipedia.org/wiki/DemoSat       NaN  \n",
       "2  https://en.wikipedia.org/wiki/Trailblazer_(sat...       NaN  \n",
       "3               https://en.wikipedia.org/wiki/Ratsat       NaN  \n",
       "4             https://en.wikipedia.org/wiki/RazakSAT       NaN  \n",
       "\n",
       "[5 rows x 43 columns]"
      ]
     },
     "execution_count": 11,
     "metadata": {},
     "output_type": "execute_result"
    }
   ],
   "source": [
    "data.head()"
   ]
  },
  {
   "cell_type": "code",
   "execution_count": 12,
   "id": "b6a0a9ca-7b67-49c7-bece-c5512645dcb4",
   "metadata": {},
   "outputs": [
    {
     "data": {
      "text/plain": [
       "Index(['static_fire_date_utc', 'static_fire_date_unix', 'net', 'window',\n",
       "       'rocket', 'success', 'failures', 'details', 'crew', 'ships', 'capsules',\n",
       "       'payloads', 'launchpad', 'flight_number', 'name', 'date_utc',\n",
       "       'date_unix', 'date_local', 'date_precision', 'upcoming', 'cores',\n",
       "       'auto_update', 'tbd', 'launch_library_id', 'id', 'fairings.reused',\n",
       "       'fairings.recovery_attempt', 'fairings.recovered', 'fairings.ships',\n",
       "       'links.patch.small', 'links.patch.large', 'links.reddit.campaign',\n",
       "       'links.reddit.launch', 'links.reddit.media', 'links.reddit.recovery',\n",
       "       'links.flickr.small', 'links.flickr.original', 'links.presskit',\n",
       "       'links.webcast', 'links.youtube_id', 'links.article', 'links.wikipedia',\n",
       "       'fairings'],\n",
       "      dtype='object')"
      ]
     },
     "execution_count": 12,
     "metadata": {},
     "output_type": "execute_result"
    }
   ],
   "source": [
    "data.columns"
   ]
  },
  {
   "cell_type": "code",
   "execution_count": 13,
   "id": "794ee927-6918-4836-970f-e56b3e1e99be",
   "metadata": {},
   "outputs": [
    {
     "data": {
      "text/plain": [
       "'5e9d0d95eda69955f709d1eb'"
      ]
     },
     "execution_count": 13,
     "metadata": {},
     "output_type": "execute_result"
    }
   ],
   "source": [
    "data.loc[0,'rocket']"
   ]
  },
  {
   "cell_type": "code",
   "execution_count": 14,
   "id": "911526f7-8ab4-49b2-a6bf-35119f38721f",
   "metadata": {},
   "outputs": [
    {
     "data": {
      "text/plain": [
       "['5eb0e4b5b6c3bb0006eeb1e1']"
      ]
     },
     "execution_count": 14,
     "metadata": {},
     "output_type": "execute_result"
    }
   ],
   "source": [
    "data.loc[0,'payloads']"
   ]
  },
  {
   "cell_type": "code",
   "execution_count": 15,
   "id": "a9b0a36a-7033-4973-ba91-bd9f3564481e",
   "metadata": {},
   "outputs": [
    {
     "data": {
      "text/plain": [
       "'5e9e4502f5090995de566f86'"
      ]
     },
     "execution_count": 15,
     "metadata": {},
     "output_type": "execute_result"
    }
   ],
   "source": [
    "data.loc[0,'launchpad']"
   ]
  },
  {
   "cell_type": "code",
   "execution_count": 16,
   "id": "2b39565f-3fe1-4837-b2e7-6a3190df7981",
   "metadata": {},
   "outputs": [
    {
     "data": {
      "text/plain": [
       "[{'core': '5e9e289df35918033d3b2623',\n",
       "  'flight': 1,\n",
       "  'gridfins': False,\n",
       "  'legs': False,\n",
       "  'reused': False,\n",
       "  'landing_attempt': False,\n",
       "  'landing_success': None,\n",
       "  'landing_type': None,\n",
       "  'landpad': None}]"
      ]
     },
     "execution_count": 16,
     "metadata": {},
     "output_type": "execute_result"
    }
   ],
   "source": [
    "data.loc[0,'cores']"
   ]
  },
  {
   "cell_type": "code",
   "execution_count": 17,
   "id": "e58ad779-479e-4b9f-8d14-5ed10a6925b5",
   "metadata": {},
   "outputs": [
    {
     "data": {
      "text/html": [
       "<div>\n",
       "<style scoped>\n",
       "    .dataframe tbody tr th:only-of-type {\n",
       "        vertical-align: middle;\n",
       "    }\n",
       "\n",
       "    .dataframe tbody tr th {\n",
       "        vertical-align: top;\n",
       "    }\n",
       "\n",
       "    .dataframe thead th {\n",
       "        text-align: right;\n",
       "    }\n",
       "</style>\n",
       "<table border=\"1\" class=\"dataframe\">\n",
       "  <thead>\n",
       "    <tr style=\"text-align: right;\">\n",
       "      <th></th>\n",
       "      <th>success</th>\n",
       "      <th>failures</th>\n",
       "    </tr>\n",
       "  </thead>\n",
       "  <tbody>\n",
       "    <tr>\n",
       "      <th>0</th>\n",
       "      <td>False</td>\n",
       "      <td>[{'time': 33, 'altitude': None, 'reason': 'mer...</td>\n",
       "    </tr>\n",
       "    <tr>\n",
       "      <th>1</th>\n",
       "      <td>False</td>\n",
       "      <td>[{'time': 301, 'altitude': 289, 'reason': 'har...</td>\n",
       "    </tr>\n",
       "    <tr>\n",
       "      <th>2</th>\n",
       "      <td>False</td>\n",
       "      <td>[{'time': 140, 'altitude': 35, 'reason': 'resi...</td>\n",
       "    </tr>\n",
       "  </tbody>\n",
       "</table>\n",
       "</div>"
      ],
      "text/plain": [
       "  success                                           failures\n",
       "0   False  [{'time': 33, 'altitude': None, 'reason': 'mer...\n",
       "1   False  [{'time': 301, 'altitude': 289, 'reason': 'har...\n",
       "2   False  [{'time': 140, 'altitude': 35, 'reason': 'resi..."
      ]
     },
     "execution_count": 17,
     "metadata": {},
     "output_type": "execute_result"
    }
   ],
   "source": [
    "data.loc[0:2,['success','failures']]"
   ]
  },
  {
   "cell_type": "code",
   "execution_count": 18,
   "id": "d3a8ccad-cd6a-42f0-b1c4-dd79d73b738d",
   "metadata": {},
   "outputs": [
    {
     "data": {
      "text/html": [
       "<div>\n",
       "<style scoped>\n",
       "    .dataframe tbody tr th:only-of-type {\n",
       "        vertical-align: middle;\n",
       "    }\n",
       "\n",
       "    .dataframe tbody tr th {\n",
       "        vertical-align: top;\n",
       "    }\n",
       "\n",
       "    .dataframe thead th {\n",
       "        text-align: right;\n",
       "    }\n",
       "</style>\n",
       "<table border=\"1\" class=\"dataframe\">\n",
       "  <thead>\n",
       "    <tr style=\"text-align: right;\">\n",
       "      <th></th>\n",
       "      <th>date_utc</th>\n",
       "      <th>flight_number</th>\n",
       "    </tr>\n",
       "  </thead>\n",
       "  <tbody>\n",
       "    <tr>\n",
       "      <th>0</th>\n",
       "      <td>2006-03-24T22:30:00.000Z</td>\n",
       "      <td>1</td>\n",
       "    </tr>\n",
       "    <tr>\n",
       "      <th>1</th>\n",
       "      <td>2007-03-21T01:10:00.000Z</td>\n",
       "      <td>2</td>\n",
       "    </tr>\n",
       "    <tr>\n",
       "      <th>2</th>\n",
       "      <td>2008-08-03T03:34:00.000Z</td>\n",
       "      <td>3</td>\n",
       "    </tr>\n",
       "  </tbody>\n",
       "</table>\n",
       "</div>"
      ],
      "text/plain": [
       "                   date_utc  flight_number\n",
       "0  2006-03-24T22:30:00.000Z              1\n",
       "1  2007-03-21T01:10:00.000Z              2\n",
       "2  2008-08-03T03:34:00.000Z              3"
      ]
     },
     "execution_count": 18,
     "metadata": {},
     "output_type": "execute_result"
    }
   ],
   "source": [
    "data.loc[0:2,['date_utc','flight_number']]"
   ]
  },
  {
   "cell_type": "code",
   "execution_count": 19,
   "id": "44774fbd-544b-4386-9607-039f32c23e53",
   "metadata": {},
   "outputs": [],
   "source": [
    "data2 = data[['rocket','payloads','launchpad','cores','flight_number','date_utc']]"
   ]
  },
  {
   "cell_type": "code",
   "execution_count": 20,
   "id": "5313094d-ca47-4fab-be95-d33b3fd8919f",
   "metadata": {},
   "outputs": [],
   "source": [
    "# A lot of data is just id, we will use API again to get information using ID"
   ]
  },
  {
   "cell_type": "code",
   "execution_count": 21,
   "id": "d43ee501-db2d-4cd3-8a49-da96a8896b5e",
   "metadata": {},
   "outputs": [
    {
     "data": {
      "text/plain": [
       "(3, 6)"
      ]
     },
     "execution_count": 21,
     "metadata": {},
     "output_type": "execute_result"
    }
   ],
   "source": [
    "# Falcon Heavy with multiple cores\n",
    "data_heavy= data2[data2['cores'].map(len)>1]\n",
    "data_heavy.shape"
   ]
  },
  {
   "cell_type": "code",
   "execution_count": 22,
   "id": "9e5d07cd-d83c-4021-aae6-79814336519c",
   "metadata": {},
   "outputs": [
    {
     "data": {
      "text/html": [
       "<div>\n",
       "<style scoped>\n",
       "    .dataframe tbody tr th:only-of-type {\n",
       "        vertical-align: middle;\n",
       "    }\n",
       "\n",
       "    .dataframe tbody tr th {\n",
       "        vertical-align: top;\n",
       "    }\n",
       "\n",
       "    .dataframe thead th {\n",
       "        text-align: right;\n",
       "    }\n",
       "</style>\n",
       "<table border=\"1\" class=\"dataframe\">\n",
       "  <thead>\n",
       "    <tr style=\"text-align: right;\">\n",
       "      <th></th>\n",
       "      <th>rocket</th>\n",
       "      <th>payloads</th>\n",
       "      <th>launchpad</th>\n",
       "      <th>cores</th>\n",
       "      <th>flight_number</th>\n",
       "      <th>date_utc</th>\n",
       "    </tr>\n",
       "  </thead>\n",
       "  <tbody>\n",
       "    <tr>\n",
       "      <th>54</th>\n",
       "      <td>5e9d0d95eda69974db09d1ed</td>\n",
       "      <td>[5eb0e4c6b6c3bb0006eeb21c]</td>\n",
       "      <td>5e9e4502f509094188566f88</td>\n",
       "      <td>[{'core': '5e9e28a5f359187f703b2653', 'flight'...</td>\n",
       "      <td>55</td>\n",
       "      <td>2018-02-06T20:45:00.000Z</td>\n",
       "    </tr>\n",
       "    <tr>\n",
       "      <th>76</th>\n",
       "      <td>5e9d0d95eda69974db09d1ed</td>\n",
       "      <td>[5eb0e4cbb6c3bb0006eeb236]</td>\n",
       "      <td>5e9e4502f509094188566f88</td>\n",
       "      <td>[{'core': '5e9e28a6f3591897453b265f', 'flight'...</td>\n",
       "      <td>77</td>\n",
       "      <td>2019-04-11T22:35:00.000Z</td>\n",
       "    </tr>\n",
       "    <tr>\n",
       "      <th>80</th>\n",
       "      <td>5e9d0d95eda69974db09d1ed</td>\n",
       "      <td>[5eb0e4ccb6c3bb0006eeb23a, 5eb0e4ccb6c3bb0006e...</td>\n",
       "      <td>5e9e4502f509094188566f88</td>\n",
       "      <td>[{'core': '5e9e28a7f3591878063b2661', 'flight'...</td>\n",
       "      <td>81</td>\n",
       "      <td>2019-06-25T03:30:00.000Z</td>\n",
       "    </tr>\n",
       "  </tbody>\n",
       "</table>\n",
       "</div>"
      ],
      "text/plain": [
       "                      rocket  \\\n",
       "54  5e9d0d95eda69974db09d1ed   \n",
       "76  5e9d0d95eda69974db09d1ed   \n",
       "80  5e9d0d95eda69974db09d1ed   \n",
       "\n",
       "                                             payloads  \\\n",
       "54                         [5eb0e4c6b6c3bb0006eeb21c]   \n",
       "76                         [5eb0e4cbb6c3bb0006eeb236]   \n",
       "80  [5eb0e4ccb6c3bb0006eeb23a, 5eb0e4ccb6c3bb0006e...   \n",
       "\n",
       "                   launchpad  \\\n",
       "54  5e9e4502f509094188566f88   \n",
       "76  5e9e4502f509094188566f88   \n",
       "80  5e9e4502f509094188566f88   \n",
       "\n",
       "                                                cores  flight_number  \\\n",
       "54  [{'core': '5e9e28a5f359187f703b2653', 'flight'...             55   \n",
       "76  [{'core': '5e9e28a6f3591897453b265f', 'flight'...             77   \n",
       "80  [{'core': '5e9e28a7f3591878063b2661', 'flight'...             81   \n",
       "\n",
       "                    date_utc  \n",
       "54  2018-02-06T20:45:00.000Z  \n",
       "76  2019-04-11T22:35:00.000Z  \n",
       "80  2019-06-25T03:30:00.000Z  "
      ]
     },
     "execution_count": 22,
     "metadata": {},
     "output_type": "execute_result"
    }
   ],
   "source": [
    "data_heavy"
   ]
  },
  {
   "cell_type": "code",
   "execution_count": 23,
   "id": "9ce1b626-53f4-4304-ad27-ec60819ac74f",
   "metadata": {},
   "outputs": [
    {
     "data": {
      "text/plain": [
       "(184, 6)"
      ]
     },
     "execution_count": 23,
     "metadata": {},
     "output_type": "execute_result"
    }
   ],
   "source": [
    "# Only Falcon and Falcon 9\n",
    "data2 = data2[data2['cores'].map(len)==1]\n",
    "data2.shape"
   ]
  },
  {
   "cell_type": "code",
   "execution_count": 24,
   "id": "23197f9f-27e5-42b0-b641-c1d1c007475b",
   "metadata": {},
   "outputs": [
    {
     "data": {
      "text/plain": [
       "(12, 6)"
      ]
     },
     "execution_count": 24,
     "metadata": {},
     "output_type": "execute_result"
    }
   ],
   "source": [
    "# launches with multiple paylaod\n",
    "data_morethanonepayload = data2[data2['payloads'].map(len)>1]\n",
    "data_morethanonepayload.shape"
   ]
  },
  {
   "cell_type": "code",
   "execution_count": 25,
   "id": "86e3fbbc-9a66-4622-b281-79c75d31bd25",
   "metadata": {},
   "outputs": [
    {
     "data": {
      "text/plain": [
       "(172, 6)"
      ]
     },
     "execution_count": 25,
     "metadata": {},
     "output_type": "execute_result"
    }
   ],
   "source": [
    "#Launches with single payload to make analysis easy\n",
    "data2 = data2[data2['payloads'].map(len)==1]\n",
    "data2.shape"
   ]
  },
  {
   "cell_type": "code",
   "execution_count": 26,
   "id": "48db3750-6693-4514-891d-525e3a0855f4",
   "metadata": {},
   "outputs": [],
   "source": [
    "# Multiple core, payload removed but cores and payloads data still inside a list...changing that\n",
    "data2['cores'] = data2['cores'].map(lambda x : x[0])\n",
    "data2['payloads'] = data2['payloads'].map(lambda x : x[0])"
   ]
  },
  {
   "cell_type": "code",
   "execution_count": 27,
   "id": "49f065e5-1974-4188-aa52-4dbc9879545d",
   "metadata": {},
   "outputs": [
    {
     "data": {
      "text/plain": [
       "0      2006-03-24T22:30:00.000Z\n",
       "1      2007-03-21T01:10:00.000Z\n",
       "3      2008-09-28T23:15:00.000Z\n",
       "4      2009-07-13T03:35:00.000Z\n",
       "5      2010-06-04T18:45:00.000Z\n",
       "                 ...           \n",
       "180    2022-08-28T02:22:00.000Z\n",
       "181    2022-08-31T05:40:00.000Z\n",
       "184    2022-09-17T01:05:00.000Z\n",
       "185    2022-09-24T23:30:00.000Z\n",
       "186    2022-10-05T16:00:00.000Z\n",
       "Name: date_utc, Length: 172, dtype: object"
      ]
     },
     "execution_count": 27,
     "metadata": {},
     "output_type": "execute_result"
    }
   ],
   "source": [
    "# What date column looks like\n",
    "data2['date_utc']"
   ]
  },
  {
   "cell_type": "code",
   "execution_count": 28,
   "id": "7c159d2c-8696-4456-a9b5-4d18f54dad69",
   "metadata": {},
   "outputs": [
    {
     "data": {
      "text/plain": [
       "0      2006-03-24\n",
       "1      2007-03-21\n",
       "3      2008-09-28\n",
       "4      2009-07-13\n",
       "5      2010-06-04\n",
       "          ...    \n",
       "180    2022-08-28\n",
       "181    2022-08-31\n",
       "184    2022-09-17\n",
       "185    2022-09-24\n",
       "186    2022-10-05\n",
       "Name: date, Length: 172, dtype: object"
      ]
     },
     "execution_count": 28,
     "metadata": {},
     "output_type": "execute_result"
    }
   ],
   "source": [
    "# Converting to simple date \n",
    "data2['date'] = pd.to_datetime(data['date_utc']).dt.date\n",
    "data2['date']"
   ]
  },
  {
   "cell_type": "code",
   "execution_count": 29,
   "id": "bcd2b061-f998-4ed4-81b9-04ec9cf4b0d9",
   "metadata": {},
   "outputs": [],
   "source": [
    "# Since a lot of data is just id, extracting it again using api and id"
   ]
  },
  {
   "cell_type": "code",
   "execution_count": 30,
   "id": "733b8275-052e-4a2a-b190-57f6155368c5",
   "metadata": {},
   "outputs": [],
   "source": [
    "# Empty lists\n",
    "BoosterVersion = []\n",
    "PayloadMass = []\n",
    "Orbit = []\n",
    "LaunchSite = []\n",
    "Longitude = []\n",
    "Latitude = []\n",
    "Outcome = []\n",
    "Flights = []\n",
    "GridFins = []\n",
    "Reused  = []\n",
    "Legs = []\n",
    "LandingPad = []\n",
    "Block = []\n",
    "ReusedCount = []\n",
    "Serial = []"
   ]
  },
  {
   "cell_type": "code",
   "execution_count": 31,
   "id": "bb500d78-5ddd-43c1-9579-d2212f48eaa4",
   "metadata": {},
   "outputs": [
    {
     "data": {
      "text/plain": [
       "Index(['rocket', 'payloads', 'launchpad', 'cores', 'flight_number', 'date_utc',\n",
       "       'date'],\n",
       "      dtype='object')"
      ]
     },
     "execution_count": 31,
     "metadata": {},
     "output_type": "execute_result"
    }
   ],
   "source": [
    "data2.columns"
   ]
  },
  {
   "cell_type": "code",
   "execution_count": 32,
   "id": "6055a020-7fe7-4a2a-b259-5adeb8be5839",
   "metadata": {},
   "outputs": [],
   "source": [
    "# Booster version\n",
    "for x in data2['rocket']:\n",
    "    response  = requests.get(\"https://api.spacexdata.com/v4/rockets/\"+str(x)).json()\n",
    "    BoosterVersion.append(response['name'])"
   ]
  },
  {
   "cell_type": "code",
   "execution_count": 33,
   "id": "e1dd797f-edf0-4e15-a108-e8baff124b37",
   "metadata": {},
   "outputs": [],
   "source": [
    "# Launch Site\n",
    "for x in data2['launchpad']:\n",
    "    response  = requests.get(\"https://api.spacexdata.com/v4/launchpads/\"+str(x)).json()\n",
    "    Longitude.append(response['longitude'])\n",
    "    Latitude.append(response['latitude'])\n",
    "    LaunchSite.append(response['name'])"
   ]
  },
  {
   "cell_type": "code",
   "execution_count": null,
   "id": "8da23abd-2b03-4083-a036-96a9c7f0cc33",
   "metadata": {},
   "outputs": [],
   "source": [
    "# Payload\n",
    "for x in data2['payloads']:\n",
    "    response = requests.get(\"https://api.spacexdata.com/v4/payloads/\"+str(x)).json()\n",
    "    PayloadMass.append(response['mass_kg'])\n",
    "    Orbit.append(response['orbit'])"
   ]
  },
  {
   "cell_type": "code",
   "execution_count": null,
   "id": "46092ece-3057-42e1-ab13-40c803c484d1",
   "metadata": {},
   "outputs": [],
   "source": [
    "# some of data of core is in cores colunm itself \n",
    "for core in data2['cores']:\n",
    "    Outcome.append(str(core['landing_success'])+' '+str(core['landing_type']))\n",
    "    Flights.append(core['flight'])\n",
    "    GridFins.append(core['gridfins'])\n",
    "    Reused.append(core['reused'])\n",
    "    Legs.append(core['legs'])\n",
    "    LandingPad.append(core['landpad'])"
   ]
  },
  {
   "cell_type": "code",
   "execution_count": 36,
   "id": "8681aab3-0838-4c3e-8bd2-a12a0d2a5ff1",
   "metadata": {},
   "outputs": [],
   "source": [
    "# some core data need  api\n",
    "for core in data2['cores']:\n",
    "    if core['core'] != None :\n",
    "        response = requests.get(\"https://api.spacexdata.com/v4/cores/\"+core['core']).json()\n",
    "        Block.append(response['block'])\n",
    "        ReusedCount.append(response['reuse_count'])\n",
    "        Serial.append(response['serial'])\n",
    "    else :\n",
    "        Block.append(None)\n",
    "        ReuseCount.append(None)\n",
    "        Serial.append(None)"
   ]
  },
  {
   "cell_type": "code",
   "execution_count": 37,
   "id": "45680e36-70c1-44e5-af05-c760d98f8a2f",
   "metadata": {},
   "outputs": [],
   "source": [
    "launch_dict = {'FlightNumber' : list(data2['flight_number']),\n",
    "'Date' : list(data2['date']),\n",
    "'BoosterVersion':BoosterVersion,\n",
    "'PayloadMass':PayloadMass,\n",
    "'Orbit':Orbit,\n",
    "'LaunchSite':LaunchSite,\n",
    "'Outcome':Outcome,\n",
    "'Flights':Flights,\n",
    "'GridFins':GridFins,\n",
    "'Reused':Reused,\n",
    "'Legs':Legs,\n",
    "'LandingPad':LandingPad,\n",
    "'Block':Block,\n",
    "'ReusedCount':ReusedCount,\n",
    "'Serial':Serial,\n",
    "'Longitude': Longitude,\n",
    "'Latitude': Latitude }"
   ]
  },
  {
   "cell_type": "code",
   "execution_count": 38,
   "id": "7afb94b5-a564-4673-8208-83545e225adf",
   "metadata": {},
   "outputs": [
    {
     "name": "stdout",
     "output_type": "stream",
     "text": [
      "{'FlightNumber': 172, 'Date': 172, 'BoosterVersion': 172, 'PayloadMass': 172, 'Orbit': 172, 'LaunchSite': 172, 'Outcome': 172, 'Flights': 172, 'GridFins': 172, 'Reused': 172, 'Legs': 172, 'LandingPad': 172, 'Block': 172, 'ReusedCount': 172, 'Serial': 172, 'Longitude': 172, 'Latitude': 172}\n"
     ]
    }
   ],
   "source": [
    "# Checking if all lists have same length\n",
    "length_dict = {key : len(value) for key, value in launch_dict.items()}\n",
    "print(length_dict)"
   ]
  },
  {
   "cell_type": "code",
   "execution_count": 39,
   "id": "14e11ee0-ba1a-4951-aa8b-12cdc775a7c5",
   "metadata": {},
   "outputs": [],
   "source": [
    "df = pd.DataFrame(launch_dict)"
   ]
  },
  {
   "cell_type": "code",
   "execution_count": 40,
   "id": "f236286a-96b5-4b03-8b6f-874d0a3660f5",
   "metadata": {},
   "outputs": [
    {
     "data": {
      "text/html": [
       "<div>\n",
       "<style scoped>\n",
       "    .dataframe tbody tr th:only-of-type {\n",
       "        vertical-align: middle;\n",
       "    }\n",
       "\n",
       "    .dataframe tbody tr th {\n",
       "        vertical-align: top;\n",
       "    }\n",
       "\n",
       "    .dataframe thead th {\n",
       "        text-align: right;\n",
       "    }\n",
       "</style>\n",
       "<table border=\"1\" class=\"dataframe\">\n",
       "  <thead>\n",
       "    <tr style=\"text-align: right;\">\n",
       "      <th></th>\n",
       "      <th>FlightNumber</th>\n",
       "      <th>Date</th>\n",
       "      <th>BoosterVersion</th>\n",
       "      <th>PayloadMass</th>\n",
       "      <th>Orbit</th>\n",
       "      <th>LaunchSite</th>\n",
       "      <th>Outcome</th>\n",
       "      <th>Flights</th>\n",
       "      <th>GridFins</th>\n",
       "      <th>Reused</th>\n",
       "      <th>Legs</th>\n",
       "      <th>LandingPad</th>\n",
       "      <th>Block</th>\n",
       "      <th>ReusedCount</th>\n",
       "      <th>Serial</th>\n",
       "      <th>Longitude</th>\n",
       "      <th>Latitude</th>\n",
       "    </tr>\n",
       "  </thead>\n",
       "  <tbody>\n",
       "    <tr>\n",
       "      <th>0</th>\n",
       "      <td>1</td>\n",
       "      <td>2006-03-24</td>\n",
       "      <td>Falcon 1</td>\n",
       "      <td>20.0</td>\n",
       "      <td>LEO</td>\n",
       "      <td>Kwajalein Atoll</td>\n",
       "      <td>None None</td>\n",
       "      <td>1</td>\n",
       "      <td>False</td>\n",
       "      <td>False</td>\n",
       "      <td>False</td>\n",
       "      <td>None</td>\n",
       "      <td>NaN</td>\n",
       "      <td>0</td>\n",
       "      <td>Merlin1A</td>\n",
       "      <td>167.743129</td>\n",
       "      <td>9.047721</td>\n",
       "    </tr>\n",
       "    <tr>\n",
       "      <th>1</th>\n",
       "      <td>2</td>\n",
       "      <td>2007-03-21</td>\n",
       "      <td>Falcon 1</td>\n",
       "      <td>NaN</td>\n",
       "      <td>LEO</td>\n",
       "      <td>Kwajalein Atoll</td>\n",
       "      <td>None None</td>\n",
       "      <td>1</td>\n",
       "      <td>False</td>\n",
       "      <td>False</td>\n",
       "      <td>False</td>\n",
       "      <td>None</td>\n",
       "      <td>NaN</td>\n",
       "      <td>0</td>\n",
       "      <td>Merlin2A</td>\n",
       "      <td>167.743129</td>\n",
       "      <td>9.047721</td>\n",
       "    </tr>\n",
       "    <tr>\n",
       "      <th>2</th>\n",
       "      <td>4</td>\n",
       "      <td>2008-09-28</td>\n",
       "      <td>Falcon 1</td>\n",
       "      <td>165.0</td>\n",
       "      <td>LEO</td>\n",
       "      <td>Kwajalein Atoll</td>\n",
       "      <td>None None</td>\n",
       "      <td>1</td>\n",
       "      <td>False</td>\n",
       "      <td>False</td>\n",
       "      <td>False</td>\n",
       "      <td>None</td>\n",
       "      <td>NaN</td>\n",
       "      <td>0</td>\n",
       "      <td>Merlin2C</td>\n",
       "      <td>167.743129</td>\n",
       "      <td>9.047721</td>\n",
       "    </tr>\n",
       "    <tr>\n",
       "      <th>3</th>\n",
       "      <td>5</td>\n",
       "      <td>2009-07-13</td>\n",
       "      <td>Falcon 1</td>\n",
       "      <td>200.0</td>\n",
       "      <td>LEO</td>\n",
       "      <td>Kwajalein Atoll</td>\n",
       "      <td>None None</td>\n",
       "      <td>1</td>\n",
       "      <td>False</td>\n",
       "      <td>False</td>\n",
       "      <td>False</td>\n",
       "      <td>None</td>\n",
       "      <td>NaN</td>\n",
       "      <td>0</td>\n",
       "      <td>Merlin3C</td>\n",
       "      <td>167.743129</td>\n",
       "      <td>9.047721</td>\n",
       "    </tr>\n",
       "    <tr>\n",
       "      <th>4</th>\n",
       "      <td>6</td>\n",
       "      <td>2010-06-04</td>\n",
       "      <td>Falcon 9</td>\n",
       "      <td>NaN</td>\n",
       "      <td>LEO</td>\n",
       "      <td>CCSFS SLC 40</td>\n",
       "      <td>None None</td>\n",
       "      <td>1</td>\n",
       "      <td>False</td>\n",
       "      <td>False</td>\n",
       "      <td>False</td>\n",
       "      <td>None</td>\n",
       "      <td>1.0</td>\n",
       "      <td>0</td>\n",
       "      <td>B0003</td>\n",
       "      <td>-80.577366</td>\n",
       "      <td>28.561857</td>\n",
       "    </tr>\n",
       "  </tbody>\n",
       "</table>\n",
       "</div>"
      ],
      "text/plain": [
       "   FlightNumber        Date BoosterVersion  PayloadMass Orbit  \\\n",
       "0             1  2006-03-24       Falcon 1         20.0   LEO   \n",
       "1             2  2007-03-21       Falcon 1          NaN   LEO   \n",
       "2             4  2008-09-28       Falcon 1        165.0   LEO   \n",
       "3             5  2009-07-13       Falcon 1        200.0   LEO   \n",
       "4             6  2010-06-04       Falcon 9          NaN   LEO   \n",
       "\n",
       "        LaunchSite    Outcome  Flights  GridFins  Reused   Legs LandingPad  \\\n",
       "0  Kwajalein Atoll  None None        1     False   False  False       None   \n",
       "1  Kwajalein Atoll  None None        1     False   False  False       None   \n",
       "2  Kwajalein Atoll  None None        1     False   False  False       None   \n",
       "3  Kwajalein Atoll  None None        1     False   False  False       None   \n",
       "4     CCSFS SLC 40  None None        1     False   False  False       None   \n",
       "\n",
       "   Block  ReusedCount    Serial   Longitude   Latitude  \n",
       "0    NaN            0  Merlin1A  167.743129   9.047721  \n",
       "1    NaN            0  Merlin2A  167.743129   9.047721  \n",
       "2    NaN            0  Merlin2C  167.743129   9.047721  \n",
       "3    NaN            0  Merlin3C  167.743129   9.047721  \n",
       "4    1.0            0     B0003  -80.577366  28.561857  "
      ]
     },
     "execution_count": 40,
     "metadata": {},
     "output_type": "execute_result"
    }
   ],
   "source": [
    "df.head()"
   ]
  },
  {
   "cell_type": "code",
   "execution_count": 41,
   "id": "e6bd0bf7-f440-45ef-9f04-ea109faed36d",
   "metadata": {},
   "outputs": [
    {
     "data": {
      "text/plain": [
       "(172, 17)"
      ]
     },
     "execution_count": 41,
     "metadata": {},
     "output_type": "execute_result"
    }
   ],
   "source": [
    "df.shape"
   ]
  },
  {
   "cell_type": "code",
   "execution_count": 42,
   "id": "a4a972fb-f6cf-444d-83ea-1f7785622573",
   "metadata": {},
   "outputs": [],
   "source": [
    "# Falcon 1 is smaller, older rocket and is retired. Falcon 9 is main rocket. \n",
    "df_falcon9 = df[df['BoosterVersion']== 'Falcon 9']"
   ]
  },
  {
   "cell_type": "code",
   "execution_count": 43,
   "id": "662aa06a-b0ac-4b2e-a71c-6bd379ebc7d0",
   "metadata": {},
   "outputs": [
    {
     "data": {
      "text/plain": [
       "(168, 17)"
      ]
     },
     "execution_count": 43,
     "metadata": {},
     "output_type": "execute_result"
    }
   ],
   "source": [
    "df_falcon9.shape"
   ]
  },
  {
   "cell_type": "code",
   "execution_count": 44,
   "id": "f2263d22-2383-48af-be10-49e5c32daa03",
   "metadata": {},
   "outputs": [
    {
     "data": {
      "text/plain": [
       "FlightNumber       0\n",
       "Date               0\n",
       "BoosterVersion     0\n",
       "PayloadMass       22\n",
       "Orbit              1\n",
       "LaunchSite         0\n",
       "Outcome            0\n",
       "Flights            0\n",
       "GridFins           0\n",
       "Reused             0\n",
       "Legs               0\n",
       "LandingPad        26\n",
       "Block              0\n",
       "ReusedCount        0\n",
       "Serial             0\n",
       "Longitude          0\n",
       "Latitude           0\n",
       "dtype: int64"
      ]
     },
     "execution_count": 44,
     "metadata": {},
     "output_type": "execute_result"
    }
   ],
   "source": [
    "df_falcon9.isnull().sum()"
   ]
  },
  {
   "cell_type": "markdown",
   "id": "6e0ca8ab-5e8e-451f-9604-803eeb0c79bf",
   "metadata": {},
   "source": [
    "Missing Value of Payloads are probably due to client requirements (military) and missing values in Landing Outcome can simply be None(failure to land)"
   ]
  },
  {
   "cell_type": "code",
   "execution_count": null,
   "id": "b7509d46-9e9c-4db6-9f2f-b2c66c011cd0",
   "metadata": {},
   "outputs": [],
   "source": [
    "payload_mean = df_falcon9['PayloadMass'].mean()\n",
    "df_falcon9['PayloadMass'].replace(np.nan, payload_mean)"
   ]
  },
  {
   "cell_type": "code",
   "execution_count": 46,
   "id": "872422fe-0d4b-4201-92b0-571e68cef05f",
   "metadata": {},
   "outputs": [],
   "source": [
    "df_f = df_falcon9[df_falcon9['PayloadMass'].notna()]"
   ]
  },
  {
   "cell_type": "code",
   "execution_count": 47,
   "id": "5661e5d7-e56b-459a-9f76-8a35142e515c",
   "metadata": {},
   "outputs": [
    {
     "data": {
      "text/plain": [
       "(146, 17)"
      ]
     },
     "execution_count": 47,
     "metadata": {},
     "output_type": "execute_result"
    }
   ],
   "source": [
    "df_f.shape"
   ]
  },
  {
   "cell_type": "code",
   "execution_count": 48,
   "id": "33e0a1ca-a0ed-4fc4-ae1b-b530616df024",
   "metadata": {},
   "outputs": [
    {
     "data": {
      "text/plain": [
       "FlightNumber       0\n",
       "Date               0\n",
       "BoosterVersion     0\n",
       "PayloadMass        0\n",
       "Orbit              0\n",
       "LaunchSite         0\n",
       "Outcome            0\n",
       "Flights            0\n",
       "GridFins           0\n",
       "Reused             0\n",
       "Legs               0\n",
       "LandingPad        24\n",
       "Block              0\n",
       "ReusedCount        0\n",
       "Serial             0\n",
       "Longitude          0\n",
       "Latitude           0\n",
       "dtype: int64"
      ]
     },
     "execution_count": 48,
     "metadata": {},
     "output_type": "execute_result"
    }
   ],
   "source": [
    "df_f.isnull().sum()"
   ]
  },
  {
   "cell_type": "code",
   "execution_count": 49,
   "id": "8cefe903-4a3e-4c85-81d2-576223920f18",
   "metadata": {},
   "outputs": [
    {
     "data": {
      "text/html": [
       "<div>\n",
       "<style scoped>\n",
       "    .dataframe tbody tr th:only-of-type {\n",
       "        vertical-align: middle;\n",
       "    }\n",
       "\n",
       "    .dataframe tbody tr th {\n",
       "        vertical-align: top;\n",
       "    }\n",
       "\n",
       "    .dataframe thead th {\n",
       "        text-align: right;\n",
       "    }\n",
       "</style>\n",
       "<table border=\"1\" class=\"dataframe\">\n",
       "  <thead>\n",
       "    <tr style=\"text-align: right;\">\n",
       "      <th></th>\n",
       "      <th>FlightNumber</th>\n",
       "      <th>PayloadMass</th>\n",
       "      <th>Flights</th>\n",
       "      <th>Block</th>\n",
       "      <th>ReusedCount</th>\n",
       "      <th>Longitude</th>\n",
       "      <th>Latitude</th>\n",
       "    </tr>\n",
       "  </thead>\n",
       "  <tbody>\n",
       "    <tr>\n",
       "      <th>count</th>\n",
       "      <td>146.000000</td>\n",
       "      <td>146.000000</td>\n",
       "      <td>146.000000</td>\n",
       "      <td>146.000000</td>\n",
       "      <td>146.000000</td>\n",
       "      <td>146.000000</td>\n",
       "      <td>146.000000</td>\n",
       "    </tr>\n",
       "    <tr>\n",
       "      <th>mean</th>\n",
       "      <td>94.294521</td>\n",
       "      <td>8191.079110</td>\n",
       "      <td>3.739726</td>\n",
       "      <td>4.123288</td>\n",
       "      <td>5.376712</td>\n",
       "      <td>-87.164948</td>\n",
       "      <td>29.571413</td>\n",
       "    </tr>\n",
       "    <tr>\n",
       "      <th>std</th>\n",
       "      <td>52.188276</td>\n",
       "      <td>5521.332964</td>\n",
       "      <td>3.321933</td>\n",
       "      <td>1.428239</td>\n",
       "      <td>4.721397</td>\n",
       "      <td>14.885413</td>\n",
       "      <td>2.252388</td>\n",
       "    </tr>\n",
       "    <tr>\n",
       "      <th>min</th>\n",
       "      <td>8.000000</td>\n",
       "      <td>330.000000</td>\n",
       "      <td>1.000000</td>\n",
       "      <td>1.000000</td>\n",
       "      <td>0.000000</td>\n",
       "      <td>-120.610829</td>\n",
       "      <td>28.561857</td>\n",
       "    </tr>\n",
       "    <tr>\n",
       "      <th>25%</th>\n",
       "      <td>48.250000</td>\n",
       "      <td>3025.000000</td>\n",
       "      <td>1.000000</td>\n",
       "      <td>3.000000</td>\n",
       "      <td>1.000000</td>\n",
       "      <td>-80.603956</td>\n",
       "      <td>28.561857</td>\n",
       "    </tr>\n",
       "    <tr>\n",
       "      <th>50%</th>\n",
       "      <td>92.500000</td>\n",
       "      <td>6780.500000</td>\n",
       "      <td>2.000000</td>\n",
       "      <td>5.000000</td>\n",
       "      <td>5.000000</td>\n",
       "      <td>-80.577366</td>\n",
       "      <td>28.561857</td>\n",
       "    </tr>\n",
       "    <tr>\n",
       "      <th>75%</th>\n",
       "      <td>138.750000</td>\n",
       "      <td>13260.000000</td>\n",
       "      <td>6.000000</td>\n",
       "      <td>5.000000</td>\n",
       "      <td>9.000000</td>\n",
       "      <td>-80.577366</td>\n",
       "      <td>28.608058</td>\n",
       "    </tr>\n",
       "    <tr>\n",
       "      <th>max</th>\n",
       "      <td>186.000000</td>\n",
       "      <td>15600.000000</td>\n",
       "      <td>13.000000</td>\n",
       "      <td>5.000000</td>\n",
       "      <td>13.000000</td>\n",
       "      <td>-80.577366</td>\n",
       "      <td>34.632093</td>\n",
       "    </tr>\n",
       "  </tbody>\n",
       "</table>\n",
       "</div>"
      ],
      "text/plain": [
       "       FlightNumber   PayloadMass     Flights       Block  ReusedCount  \\\n",
       "count    146.000000    146.000000  146.000000  146.000000   146.000000   \n",
       "mean      94.294521   8191.079110    3.739726    4.123288     5.376712   \n",
       "std       52.188276   5521.332964    3.321933    1.428239     4.721397   \n",
       "min        8.000000    330.000000    1.000000    1.000000     0.000000   \n",
       "25%       48.250000   3025.000000    1.000000    3.000000     1.000000   \n",
       "50%       92.500000   6780.500000    2.000000    5.000000     5.000000   \n",
       "75%      138.750000  13260.000000    6.000000    5.000000     9.000000   \n",
       "max      186.000000  15600.000000   13.000000    5.000000    13.000000   \n",
       "\n",
       "        Longitude    Latitude  \n",
       "count  146.000000  146.000000  \n",
       "mean   -87.164948   29.571413  \n",
       "std     14.885413    2.252388  \n",
       "min   -120.610829   28.561857  \n",
       "25%    -80.603956   28.561857  \n",
       "50%    -80.577366   28.561857  \n",
       "75%    -80.577366   28.608058  \n",
       "max    -80.577366   34.632093  "
      ]
     },
     "execution_count": 49,
     "metadata": {},
     "output_type": "execute_result"
    }
   ],
   "source": [
    "df_f.describe()"
   ]
  },
  {
   "cell_type": "code",
   "execution_count": 50,
   "id": "3a3c8410-6a05-4fa6-ae46-951be1534f3f",
   "metadata": {},
   "outputs": [
    {
     "name": "stderr",
     "output_type": "stream",
     "text": [
      "C:\\Users\\Anant\\AppData\\Local\\Packages\\PythonSoftwareFoundation.Python.3.9_qbz5n2kfra8p0\\LocalCache\\local-packages\\Python39\\site-packages\\pandas\\core\\indexing.py:1743: SettingWithCopyWarning: \n",
      "A value is trying to be set on a copy of a slice from a DataFrame.\n",
      "Try using .loc[row_indexer,col_indexer] = value instead\n",
      "\n",
      "See the caveats in the documentation: https://pandas.pydata.org/pandas-docs/stable/user_guide/indexing.html#returning-a-view-versus-a-copy\n",
      "  isetter(ilocs[0], value)\n"
     ]
    }
   ],
   "source": [
    "# Making Flight number uniform \n",
    "df_f.loc[:,'FlightNumber'] = list(range(1, df_f.shape[0]+1))"
   ]
  },
  {
   "cell_type": "code",
   "execution_count": 51,
   "id": "fcabd6e6-c654-49fc-b934-a8c4164fe233",
   "metadata": {},
   "outputs": [
    {
     "data": {
      "text/html": [
       "<div>\n",
       "<style scoped>\n",
       "    .dataframe tbody tr th:only-of-type {\n",
       "        vertical-align: middle;\n",
       "    }\n",
       "\n",
       "    .dataframe tbody tr th {\n",
       "        vertical-align: top;\n",
       "    }\n",
       "\n",
       "    .dataframe thead th {\n",
       "        text-align: right;\n",
       "    }\n",
       "</style>\n",
       "<table border=\"1\" class=\"dataframe\">\n",
       "  <thead>\n",
       "    <tr style=\"text-align: right;\">\n",
       "      <th></th>\n",
       "      <th>FlightNumber</th>\n",
       "      <th>Date</th>\n",
       "      <th>BoosterVersion</th>\n",
       "      <th>PayloadMass</th>\n",
       "      <th>Orbit</th>\n",
       "      <th>LaunchSite</th>\n",
       "      <th>Outcome</th>\n",
       "      <th>Flights</th>\n",
       "      <th>GridFins</th>\n",
       "      <th>Reused</th>\n",
       "      <th>Legs</th>\n",
       "      <th>LandingPad</th>\n",
       "      <th>Block</th>\n",
       "      <th>ReusedCount</th>\n",
       "      <th>Serial</th>\n",
       "      <th>Longitude</th>\n",
       "      <th>Latitude</th>\n",
       "    </tr>\n",
       "  </thead>\n",
       "  <tbody>\n",
       "    <tr>\n",
       "      <th>5</th>\n",
       "      <td>1</td>\n",
       "      <td>2012-05-22</td>\n",
       "      <td>Falcon 9</td>\n",
       "      <td>525.0</td>\n",
       "      <td>LEO</td>\n",
       "      <td>CCSFS SLC 40</td>\n",
       "      <td>None None</td>\n",
       "      <td>1</td>\n",
       "      <td>False</td>\n",
       "      <td>False</td>\n",
       "      <td>False</td>\n",
       "      <td>None</td>\n",
       "      <td>1.0</td>\n",
       "      <td>0</td>\n",
       "      <td>B0005</td>\n",
       "      <td>-80.577366</td>\n",
       "      <td>28.561857</td>\n",
       "    </tr>\n",
       "    <tr>\n",
       "      <th>6</th>\n",
       "      <td>2</td>\n",
       "      <td>2013-03-01</td>\n",
       "      <td>Falcon 9</td>\n",
       "      <td>677.0</td>\n",
       "      <td>ISS</td>\n",
       "      <td>CCSFS SLC 40</td>\n",
       "      <td>None None</td>\n",
       "      <td>1</td>\n",
       "      <td>False</td>\n",
       "      <td>False</td>\n",
       "      <td>False</td>\n",
       "      <td>None</td>\n",
       "      <td>1.0</td>\n",
       "      <td>0</td>\n",
       "      <td>B0007</td>\n",
       "      <td>-80.577366</td>\n",
       "      <td>28.561857</td>\n",
       "    </tr>\n",
       "    <tr>\n",
       "      <th>7</th>\n",
       "      <td>3</td>\n",
       "      <td>2013-09-29</td>\n",
       "      <td>Falcon 9</td>\n",
       "      <td>500.0</td>\n",
       "      <td>PO</td>\n",
       "      <td>VAFB SLC 4E</td>\n",
       "      <td>False Ocean</td>\n",
       "      <td>1</td>\n",
       "      <td>False</td>\n",
       "      <td>False</td>\n",
       "      <td>False</td>\n",
       "      <td>None</td>\n",
       "      <td>1.0</td>\n",
       "      <td>0</td>\n",
       "      <td>B1003</td>\n",
       "      <td>-120.610829</td>\n",
       "      <td>34.632093</td>\n",
       "    </tr>\n",
       "    <tr>\n",
       "      <th>8</th>\n",
       "      <td>4</td>\n",
       "      <td>2013-12-03</td>\n",
       "      <td>Falcon 9</td>\n",
       "      <td>3170.0</td>\n",
       "      <td>GTO</td>\n",
       "      <td>CCSFS SLC 40</td>\n",
       "      <td>None None</td>\n",
       "      <td>1</td>\n",
       "      <td>False</td>\n",
       "      <td>False</td>\n",
       "      <td>False</td>\n",
       "      <td>None</td>\n",
       "      <td>1.0</td>\n",
       "      <td>0</td>\n",
       "      <td>B1004</td>\n",
       "      <td>-80.577366</td>\n",
       "      <td>28.561857</td>\n",
       "    </tr>\n",
       "    <tr>\n",
       "      <th>9</th>\n",
       "      <td>5</td>\n",
       "      <td>2014-01-06</td>\n",
       "      <td>Falcon 9</td>\n",
       "      <td>3325.0</td>\n",
       "      <td>GTO</td>\n",
       "      <td>CCSFS SLC 40</td>\n",
       "      <td>None None</td>\n",
       "      <td>1</td>\n",
       "      <td>False</td>\n",
       "      <td>False</td>\n",
       "      <td>False</td>\n",
       "      <td>None</td>\n",
       "      <td>1.0</td>\n",
       "      <td>0</td>\n",
       "      <td>B1005</td>\n",
       "      <td>-80.577366</td>\n",
       "      <td>28.561857</td>\n",
       "    </tr>\n",
       "  </tbody>\n",
       "</table>\n",
       "</div>"
      ],
      "text/plain": [
       "   FlightNumber        Date BoosterVersion  PayloadMass Orbit    LaunchSite  \\\n",
       "5             1  2012-05-22       Falcon 9        525.0   LEO  CCSFS SLC 40   \n",
       "6             2  2013-03-01       Falcon 9        677.0   ISS  CCSFS SLC 40   \n",
       "7             3  2013-09-29       Falcon 9        500.0    PO   VAFB SLC 4E   \n",
       "8             4  2013-12-03       Falcon 9       3170.0   GTO  CCSFS SLC 40   \n",
       "9             5  2014-01-06       Falcon 9       3325.0   GTO  CCSFS SLC 40   \n",
       "\n",
       "       Outcome  Flights  GridFins  Reused   Legs LandingPad  Block  \\\n",
       "5    None None        1     False   False  False       None    1.0   \n",
       "6    None None        1     False   False  False       None    1.0   \n",
       "7  False Ocean        1     False   False  False       None    1.0   \n",
       "8    None None        1     False   False  False       None    1.0   \n",
       "9    None None        1     False   False  False       None    1.0   \n",
       "\n",
       "   ReusedCount Serial   Longitude   Latitude  \n",
       "5            0  B0005  -80.577366  28.561857  \n",
       "6            0  B0007  -80.577366  28.561857  \n",
       "7            0  B1003 -120.610829  34.632093  \n",
       "8            0  B1004  -80.577366  28.561857  \n",
       "9            0  B1005  -80.577366  28.561857  "
      ]
     },
     "execution_count": 51,
     "metadata": {},
     "output_type": "execute_result"
    }
   ],
   "source": [
    "df_f.head()"
   ]
  },
  {
   "cell_type": "code",
   "execution_count": 56,
   "id": "938f53e5-c03a-4e9a-8009-79c2260e3b8b",
   "metadata": {},
   "outputs": [],
   "source": [
    "df_f.to_csv('SpaceX_F9_apidata.csv', index = False )"
   ]
  },
  {
   "cell_type": "code",
   "execution_count": 57,
   "id": "b24ab44c-256f-4aeb-9823-fdc4cd63738e",
   "metadata": {},
   "outputs": [],
   "source": [
    "\"\"\" We also have to extract some data from Wikipedia and match with course(IBM) so also saving \n",
    "a new dataframe with date upto 13.11.2020  \"\"\"\n",
    "df_f_trim = df_f[df_f['Date'] <= datetime.date(2020,11,13)]"
   ]
  },
  {
   "cell_type": "code",
   "execution_count": 58,
   "id": "cf7129ad-b2c1-4fc7-bbf5-2337abfe248d",
   "metadata": {},
   "outputs": [
    {
     "data": {
      "text/plain": [
       "(85, 17)"
      ]
     },
     "execution_count": 58,
     "metadata": {},
     "output_type": "execute_result"
    }
   ],
   "source": [
    "df_f_trim.shape"
   ]
  },
  {
   "cell_type": "code",
   "execution_count": 59,
   "id": "be9ec771-9d75-44fd-b53d-2941aba250e2",
   "metadata": {},
   "outputs": [],
   "source": [
    "df_f_trim.to_csv('SpaceX_F9_apidatatrim.csv', index = False )"
   ]
  },
  {
   "cell_type": "markdown",
   "id": "a7b5f007-153a-482b-8e49-608015e989d9",
   "metadata": {},
   "source": [
    "### Thank You"
   ]
  }
 ],
 "metadata": {
  "kernelspec": {
   "display_name": "Python 3 (ipykernel)",
   "language": "python",
   "name": "python3"
  },
  "language_info": {
   "codemirror_mode": {
    "name": "ipython",
    "version": 3
   },
   "file_extension": ".py",
   "mimetype": "text/x-python",
   "name": "python",
   "nbconvert_exporter": "python",
   "pygments_lexer": "ipython3",
   "version": "3.9.13"
  }
 },
 "nbformat": 4,
 "nbformat_minor": 5
}
