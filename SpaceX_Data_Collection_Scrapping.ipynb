{
 "cells": [
  {
   "cell_type": "code",
   "execution_count": 1,
   "id": "7b4fe63f-f39d-4a1a-9e2f-05eec0573f3c",
   "metadata": {},
   "outputs": [],
   "source": [
    "import pandas as pd\n",
    "import requests\n",
    "from bs4 import BeautifulSoup\n",
    "import html5lib\n",
    "import re\n",
    "import unicodedata"
   ]
  },
  {
   "cell_type": "code",
   "execution_count": 2,
   "id": "c6cfa67b-f31e-4a1e-b220-e8d2638175b6",
   "metadata": {},
   "outputs": [],
   "source": [
    "url = \"https://en.wikipedia.org/w/index.php?title=List_of_Falcon_9_and_Falcon_Heavy_launches&oldid=1027686922\""
   ]
  },
  {
   "cell_type": "code",
   "execution_count": 3,
   "id": "3ed0b95b-8074-439a-867d-5ffb73dfcf80",
   "metadata": {},
   "outputs": [],
   "source": [
    "response  = requests.get(url).text"
   ]
  },
  {
   "cell_type": "code",
   "execution_count": 4,
   "id": "ef7d9c3d-abf6-421d-9959-d74d6cb7c63d",
   "metadata": {},
   "outputs": [],
   "source": [
    "soup = BeautifulSoup(response, 'html5lib')"
   ]
  },
  {
   "cell_type": "code",
   "execution_count": 5,
   "id": "e24d5174-bb3d-4a70-832c-77e0a2610125",
   "metadata": {},
   "outputs": [
    {
     "data": {
      "text/plain": [
       "<title>List of Falcon 9 and Falcon Heavy launches - Wikipedia</title>"
      ]
     },
     "execution_count": 5,
     "metadata": {},
     "output_type": "execute_result"
    }
   ],
   "source": [
    "soup.title"
   ]
  },
  {
   "cell_type": "code",
   "execution_count": 6,
   "id": "56f55514-353d-4664-b291-2a5329c70827",
   "metadata": {},
   "outputs": [],
   "source": [
    "# To extract only tables from wikipedia page\n",
    "html_tables = soup.find_all('table')"
   ]
  },
  {
   "cell_type": "code",
   "execution_count": 7,
   "id": "67813738-0312-4ac2-b156-7eb2dcd6ebf6",
   "metadata": {},
   "outputs": [
    {
     "data": {
      "text/plain": [
       "24"
      ]
     },
     "execution_count": 7,
     "metadata": {},
     "output_type": "execute_result"
    }
   ],
   "source": [
    "len(html_tables)"
   ]
  },
  {
   "cell_type": "code",
   "execution_count": 44,
   "id": "a3d4b491-9da8-4525-a308-58937f255cd7",
   "metadata": {},
   "outputs": [],
   "source": [
    "\"\"\" Graphs on wikipedia are also arranged as table \n",
    "So table[2]/ 3rd table is our first data table \"\"\"\n",
    "first_launch_table = html_tables[2]"
   ]
  },
  {
   "cell_type": "code",
   "execution_count": 45,
   "id": "b4cde313-e806-4d2a-bbc0-ccf801f591f1",
   "metadata": {},
   "outputs": [],
   "source": [
    "# Extracting column name"
   ]
  },
  {
   "cell_type": "code",
   "execution_count": 46,
   "id": "195014ce-cac4-4147-b0e0-45650334896f",
   "metadata": {},
   "outputs": [],
   "source": [
    "table_headers = first_launch_table.find_all(\"th\")"
   ]
  },
  {
   "cell_type": "code",
   "execution_count": 47,
   "id": "26c8feca-7830-4804-94c9-db599940b1f7",
   "metadata": {},
   "outputs": [
    {
     "data": {
      "text/plain": [
       "[<th scope=\"col\">Flight No.\n",
       " </th>,\n",
       " <th scope=\"col\">Date andtime ()\n",
       " </th>,\n",
       " <th scope=\"col\"> \n",
       " </th>,\n",
       " <th scope=\"col\">Launch site\n",
       " </th>,\n",
       " <th scope=\"col\">Payload\n",
       " </th>,\n",
       " <th scope=\"col\">Payload mass\n",
       " </th>,\n",
       " <th scope=\"col\">Orbit\n",
       " </th>,\n",
       " <th scope=\"col\">Customer\n",
       " </th>,\n",
       " <th scope=\"col\">Launchoutcome\n",
       " </th>,\n",
       " <th scope=\"col\">\n",
       " </th>,\n",
       " <th rowspan=\"2\" scope=\"row\" style=\"text-align:center;\">1\n",
       " </th>,\n",
       " <th rowspan=\"2\" scope=\"row\" style=\"text-align:center;\">2\n",
       " </th>,\n",
       " <th rowspan=\"2\" scope=\"row\" style=\"text-align:center;\">3\n",
       " </th>,\n",
       " <th rowspan=\"3\" scope=\"row\" style=\"text-align:center;\">4\n",
       " </th>,\n",
       " <th rowspan=\"2\" scope=\"row\" style=\"text-align:center;\">5\n",
       " </th>,\n",
       " <th rowspan=\"2\" scope=\"row\" style=\"text-align:center;\">6\n",
       " </th>,\n",
       " <th rowspan=\"2\" scope=\"row\" style=\"text-align:center;\">7\n",
       " </th>]"
      ]
     },
     "execution_count": 47,
     "metadata": {},
     "output_type": "execute_result"
    }
   ],
   "source": [
    "table_headers"
   ]
  },
  {
   "cell_type": "code",
   "execution_count": 48,
   "id": "cf0af052-af8e-45af-8a01-94838a0c3e6e",
   "metadata": {},
   "outputs": [
    {
     "data": {
      "text/plain": [
       "bs4.element.ResultSet"
      ]
     },
     "execution_count": 48,
     "metadata": {},
     "output_type": "execute_result"
    }
   ],
   "source": [
    "type(table_headers)"
   ]
  },
  {
   "cell_type": "code",
   "execution_count": 87,
   "id": "ba3dcc2a-ff27-43e5-8d90-8a4d1bffb8dd",
   "metadata": {},
   "outputs": [],
   "source": [
    "column_names = []\n",
    "for name in table_headers :\n",
    "    column_name = ' '.join(name.contents)\n",
    "    if not(column_name.strip().isdigit()):\n",
    "        column_name = column_name.strip()\n",
    "        if column_name is not None and len(column_name) > 0 :\n",
    "            column_names.append(column_name)        "
   ]
  },
  {
   "cell_type": "code",
   "execution_count": 89,
   "id": "b2056b06-153d-42d9-8d76-c2e222996a27",
   "metadata": {},
   "outputs": [
    {
     "name": "stdout",
     "output_type": "stream",
     "text": [
      "['Flight No.', 'Date and time ( )', 'Launch site', 'Payload', 'Payload mass', 'Orbit', 'Customer', 'Launch outcome']\n"
     ]
    }
   ],
   "source": [
    "print(column_names)"
   ]
  },
  {
   "cell_type": "code",
   "execution_count": 98,
   "id": "c1efa334-7416-4b61-8143-233c8eb86cd6",
   "metadata": {},
   "outputs": [],
   "source": [
    "def date_time(table_cells):\n",
    "    \"\"\"\n",
    "    This function returns the data and time from the HTML  table cell\n",
    "    Input: the  element of a table data cell extracts extra row\n",
    "    \"\"\"\n",
    "    return [data_time.strip() for data_time in list(table_cells.strings)][0:2]\n",
    "\n",
    "def booster_version(table_cells):\n",
    "    \"\"\"\n",
    "    This function returns the booster version from the HTML  table cell \n",
    "    Input: the  element of a table data cell extracts extra row\n",
    "    \"\"\"\n",
    "    out=''.join([booster_version for i,booster_version in enumerate( table_cells.strings) if i%2==0][0:-1])\n",
    "    return out\n",
    "\n",
    "def landing_status(table_cells):\n",
    "    \"\"\"\n",
    "    This function returns the landing status from the HTML table cell \n",
    "    Input: the  element of a table data cell extracts extra row\n",
    "    \"\"\"\n",
    "    out=[i for i in table_cells.strings][0]\n",
    "    return out\n",
    "\n",
    "\n",
    "def get_mass(table_cells):\n",
    "    mass=unicodedata.normalize(\"NFKD\", table_cells.text).strip()\n",
    "    if mass:\n",
    "        mass.find(\"kg\")\n",
    "        new_mass=mass[0:mass.find(\"kg\")+2]\n",
    "    else:\n",
    "        new_mass=0\n",
    "    return new_mass\n",
    "\n"
   ]
  },
  {
   "cell_type": "code",
   "execution_count": 90,
   "id": "9fd08e2e-a9c9-444f-bb7f-040037b42117",
   "metadata": {},
   "outputs": [],
   "source": [
    "launch_dict= dict.fromkeys(column_names)"
   ]
  },
  {
   "cell_type": "code",
   "execution_count": 91,
   "id": "8e3e7cb5-c885-4987-892d-d12a8f67c58c",
   "metadata": {},
   "outputs": [],
   "source": [
    "del launch_dict['Date and time ( )']"
   ]
  },
  {
   "cell_type": "code",
   "execution_count": 94,
   "id": "37c7af87-3070-4913-9a1c-8388db17f94f",
   "metadata": {},
   "outputs": [
    {
     "name": "stdout",
     "output_type": "stream",
     "text": [
      "None\n"
     ]
    }
   ],
   "source": [
    "print(launch_dict['Flight No.'])"
   ]
  },
  {
   "cell_type": "code",
   "execution_count": 124,
   "id": "7072e8ef-85b4-4d3b-b1dc-88ce99b487b4",
   "metadata": {},
   "outputs": [],
   "source": [
    "launch_dict['Flight No.'] = []\n",
    "launch_dict['Launch site'] = []\n",
    "launch_dict['Payload'] = []\n",
    "launch_dict['Payload mass'] = []\n",
    "launch_dict['Orbit'] = []\n",
    "launch_dict['Customer'] = []\n",
    "launch_dict['Launch outcome'] = []\n",
    "\n",
    "# Added some new columns\n",
    "launch_dict['Version Booster']=[]\n",
    "launch_dict['Booster landing']=[]\n",
    "launch_dict['Date']=[]\n",
    "launch_dict['Time']=[]"
   ]
  },
  {
   "cell_type": "code",
   "execution_count": 125,
   "id": "5c755b31-a7d0-40c8-a789-ad2dec47e2f8",
   "metadata": {},
   "outputs": [
    {
     "name": "stdout",
     "output_type": "stream",
     "text": [
      "[]\n"
     ]
    }
   ],
   "source": [
    "print(launch_dict['Flight No.'])"
   ]
  },
  {
   "cell_type": "code",
   "execution_count": 126,
   "id": "eab72e70-e28c-49dc-b4ab-99dc27360381",
   "metadata": {},
   "outputs": [],
   "source": [
    "extracted_row = 0\n",
    "#Extract each table \n",
    "for table_number,table in enumerate(soup.find_all('table',\"wikitable plainrowheaders collapsible\")):\n",
    "   # get table row \n",
    "    for rows in table.find_all(\"tr\"):\n",
    "        #check to see if first table heading is as number corresponding to launch a number \n",
    "        if rows.th:\n",
    "            if rows.th.string:\n",
    "                flight_number=rows.th.string.strip()\n",
    "                flag=flight_number.isdigit()\n",
    "        else:\n",
    "            flag=False\n",
    "        #get table element \n",
    "        row=rows.find_all('td')\n",
    "        #if it is number save cells in a dictonary \n",
    "        if flag:\n",
    "            extracted_row += 1\n",
    "            # Flight Number value\n",
    "            # TODO: Append the flight_number into launch_dict with key `Flight No.`\n",
    "            #print(flight_number)\n",
    "            launch_dict['Flight No.'].append(flight_number)\n",
    "            datatimelist=date_time(row[0])\n",
    "            \n",
    "            # Date value\n",
    "            # TODO: Append the date into launch_dict with key `Date`\n",
    "            date = datatimelist[0].strip(',')\n",
    "            launch_dict['Date'].append(date)\n",
    "            #print(date)\n",
    "            \n",
    "            # Time value\n",
    "            # TODO: Append the time into launch_dict with key `Time`\n",
    "            time = datatimelist[1]\n",
    "            launch_dict['Time'].append(time)\n",
    "            #print(time)\n",
    "              \n",
    "            # Booster version\n",
    "            # TODO: Append the bv into launch_dict with key `Version Booster`\n",
    "            bv=booster_version(row[1])\n",
    "            if not(bv):\n",
    "                bv=row[1].a.string\n",
    "            launch_dict['Version Booster'].append(bv)\n",
    "            # Launch Site\n",
    "            # TODO: Append the bv into launch_dict with key `Launch Site`\n",
    "            launch_site = row[2].a.string\n",
    "            #print(launch_site)\n",
    "            launch_dict['Launch site'].append(launch_site)\n",
    "            \n",
    "            # Payload\n",
    "            # TODO: Append the payload into launch_dict with key `Payload`\n",
    "            payload = row[3].a.string\n",
    "            #print(payload)\n",
    "            launch_dict['Payload'].append(payload)\n",
    "            \n",
    "            # Payload Mass\n",
    "            # TODO: Append the payload_mass into launch_dict with key `Payload mass`\n",
    "            payload_mass = get_mass(row[4])\n",
    "            #print(payload_mass)\n",
    "            launch_dict['Payload mass'].append(payload_mass)\n",
    "\n",
    "            \n",
    "            # Orbit\n",
    "            # TODO: Append the orbit into launch_dict with key `Orbit`\n",
    "            orbit = row[5].a.string\n",
    "            #print(orbit)\n",
    "            launch_dict['Orbit'].append(orbit)\n",
    "            \n",
    "            # Customer\n",
    "            # TODO: Append the customer into launch_dict with key `Customer`\n",
    "            customer = row[6].text.strip()\n",
    "            #print(customer)\n",
    "            launch_dict['Customer'].append(customer)\n",
    "            \n",
    "            # Launch outcome\n",
    "            # TODO: Append the launch_outcome into launch_dict with key `Launch outcome`\n",
    "            launch_outcome = list(row[7].strings)[0]\n",
    "            #print(launch_outcome)\n",
    "            launch_dict['Launch outcome'].append(launch_outcome)\n",
    "            \n",
    "            # Booster landing\n",
    "            # TODO: Append the launch_outcome into launch_dict with key `Booster landing`\n",
    "            booster_landing = landing_status(row[8])\n",
    "            #print(booster_landing)\n",
    "            launch_dict['Booster landing'].append(booster_landing)\n",
    "            "
   ]
  },
  {
   "cell_type": "code",
   "execution_count": 127,
   "id": "ae3518b7-7ccd-4329-8c80-d104cd355ea3",
   "metadata": {},
   "outputs": [
    {
     "name": "stdout",
     "output_type": "stream",
     "text": [
      " Flight No. : 121\n",
      " Launch site : 121\n",
      " Payload : 121\n",
      " Payload mass : 121\n",
      " Orbit : 121\n",
      " Customer : 121\n",
      " Launch outcome : 121\n",
      " Version Booster : 121\n",
      " Booster landing : 121\n",
      " Date : 121\n",
      " Time : 121\n"
     ]
    }
   ],
   "source": [
    "for key, value in launch_dict.items() :\n",
    "    print(f\" {key} : {len(value)}\")"
   ]
  },
  {
   "cell_type": "code",
   "execution_count": 128,
   "id": "3d15c8f5-f735-4311-8b94-a2d74bf7b100",
   "metadata": {},
   "outputs": [],
   "source": [
    "# del launch_dict['Flight No.'][0]"
   ]
  },
  {
   "cell_type": "code",
   "execution_count": 129,
   "id": "d924f2bd-3f4a-4b66-9a69-d77b5ca180ca",
   "metadata": {},
   "outputs": [],
   "source": [
    "df=pd.DataFrame(launch_dict)"
   ]
  },
  {
   "cell_type": "code",
   "execution_count": 130,
   "id": "f50e768b-7717-46ce-83ba-c50877867564",
   "metadata": {},
   "outputs": [
    {
     "data": {
      "text/plain": [
       "(121, 11)"
      ]
     },
     "execution_count": 130,
     "metadata": {},
     "output_type": "execute_result"
    }
   ],
   "source": [
    "df.shape"
   ]
  },
  {
   "cell_type": "code",
   "execution_count": 131,
   "id": "4765ba35-a9b2-4ceb-8885-72732eb321f1",
   "metadata": {},
   "outputs": [
    {
     "data": {
      "text/html": [
       "<div>\n",
       "<style scoped>\n",
       "    .dataframe tbody tr th:only-of-type {\n",
       "        vertical-align: middle;\n",
       "    }\n",
       "\n",
       "    .dataframe tbody tr th {\n",
       "        vertical-align: top;\n",
       "    }\n",
       "\n",
       "    .dataframe thead th {\n",
       "        text-align: right;\n",
       "    }\n",
       "</style>\n",
       "<table border=\"1\" class=\"dataframe\">\n",
       "  <thead>\n",
       "    <tr style=\"text-align: right;\">\n",
       "      <th></th>\n",
       "      <th>Flight No.</th>\n",
       "      <th>Launch site</th>\n",
       "      <th>Payload</th>\n",
       "      <th>Payload mass</th>\n",
       "      <th>Orbit</th>\n",
       "      <th>Customer</th>\n",
       "      <th>Launch outcome</th>\n",
       "      <th>Version Booster</th>\n",
       "      <th>Booster landing</th>\n",
       "      <th>Date</th>\n",
       "      <th>Time</th>\n",
       "    </tr>\n",
       "  </thead>\n",
       "  <tbody>\n",
       "    <tr>\n",
       "      <th>0</th>\n",
       "      <td>1</td>\n",
       "      <td>CCAFS</td>\n",
       "      <td>Dragon Spacecraft Qualification Unit</td>\n",
       "      <td>0</td>\n",
       "      <td>LEO</td>\n",
       "      <td>SpaceX</td>\n",
       "      <td>Success\\n</td>\n",
       "      <td>F9 v1.0B0003.1</td>\n",
       "      <td>Failure</td>\n",
       "      <td>4 June 2010</td>\n",
       "      <td>18:45</td>\n",
       "    </tr>\n",
       "    <tr>\n",
       "      <th>1</th>\n",
       "      <td>2</td>\n",
       "      <td>CCAFS</td>\n",
       "      <td>Dragon</td>\n",
       "      <td>0</td>\n",
       "      <td>LEO</td>\n",
       "      <td>.mw-parser-output .plainlist ol,.mw-parser-out...</td>\n",
       "      <td>Success</td>\n",
       "      <td>F9 v1.0B0004.1</td>\n",
       "      <td>Failure</td>\n",
       "      <td>8 December 2010</td>\n",
       "      <td>15:43</td>\n",
       "    </tr>\n",
       "    <tr>\n",
       "      <th>2</th>\n",
       "      <td>3</td>\n",
       "      <td>CCAFS</td>\n",
       "      <td>Dragon</td>\n",
       "      <td>525 kg</td>\n",
       "      <td>LEO</td>\n",
       "      <td>NASA (COTS)</td>\n",
       "      <td>Success</td>\n",
       "      <td>F9 v1.0B0005.1</td>\n",
       "      <td>No attempt\\n</td>\n",
       "      <td>22 May 2012</td>\n",
       "      <td>07:44</td>\n",
       "    </tr>\n",
       "    <tr>\n",
       "      <th>3</th>\n",
       "      <td>4</td>\n",
       "      <td>CCAFS</td>\n",
       "      <td>SpaceX CRS-1</td>\n",
       "      <td>4,700 kg</td>\n",
       "      <td>LEO</td>\n",
       "      <td>NASA (CRS)</td>\n",
       "      <td>Success\\n</td>\n",
       "      <td>F9 v1.0B0006.1</td>\n",
       "      <td>No attempt</td>\n",
       "      <td>8 October 2012</td>\n",
       "      <td>00:35</td>\n",
       "    </tr>\n",
       "    <tr>\n",
       "      <th>4</th>\n",
       "      <td>5</td>\n",
       "      <td>CCAFS</td>\n",
       "      <td>SpaceX CRS-2</td>\n",
       "      <td>4,877 kg</td>\n",
       "      <td>LEO</td>\n",
       "      <td>NASA (CRS)</td>\n",
       "      <td>Success\\n</td>\n",
       "      <td>F9 v1.0B0007.1</td>\n",
       "      <td>No attempt\\n</td>\n",
       "      <td>1 March 2013</td>\n",
       "      <td>15:10</td>\n",
       "    </tr>\n",
       "  </tbody>\n",
       "</table>\n",
       "</div>"
      ],
      "text/plain": [
       "  Flight No. Launch site                               Payload Payload mass  \\\n",
       "0          1       CCAFS  Dragon Spacecraft Qualification Unit            0   \n",
       "1          2       CCAFS                                Dragon            0   \n",
       "2          3       CCAFS                                Dragon       525 kg   \n",
       "3          4       CCAFS                          SpaceX CRS-1     4,700 kg   \n",
       "4          5       CCAFS                          SpaceX CRS-2     4,877 kg   \n",
       "\n",
       "  Orbit                                           Customer Launch outcome  \\\n",
       "0   LEO                                             SpaceX      Success\\n   \n",
       "1   LEO  .mw-parser-output .plainlist ol,.mw-parser-out...        Success   \n",
       "2   LEO                                        NASA (COTS)        Success   \n",
       "3   LEO                                         NASA (CRS)      Success\\n   \n",
       "4   LEO                                         NASA (CRS)      Success\\n   \n",
       "\n",
       "  Version Booster Booster landing             Date   Time  \n",
       "0  F9 v1.0B0003.1         Failure      4 June 2010  18:45  \n",
       "1  F9 v1.0B0004.1         Failure  8 December 2010  15:43  \n",
       "2  F9 v1.0B0005.1    No attempt\\n      22 May 2012  07:44  \n",
       "3  F9 v1.0B0006.1      No attempt   8 October 2012  00:35  \n",
       "4  F9 v1.0B0007.1    No attempt\\n     1 March 2013  15:10  "
      ]
     },
     "execution_count": 131,
     "metadata": {},
     "output_type": "execute_result"
    }
   ],
   "source": [
    "df.head()"
   ]
  },
  {
   "cell_type": "code",
   "execution_count": 132,
   "id": "2cc2f35a-9de6-4d1e-b514-1f59fa3d3c29",
   "metadata": {},
   "outputs": [],
   "source": [
    "df.to_csv('SpaceX_wikiweb_scraped.csv', index=False)"
   ]
  },
  {
   "cell_type": "markdown",
   "id": "de6ccf2d-1abb-43ea-9756-b2dd9503ab3b",
   "metadata": {},
   "source": [
    "### Thank You"
   ]
  }
 ],
 "metadata": {
  "kernelspec": {
   "display_name": "Python 3 (ipykernel)",
   "language": "python",
   "name": "python3"
  },
  "language_info": {
   "codemirror_mode": {
    "name": "ipython",
    "version": 3
   },
   "file_extension": ".py",
   "mimetype": "text/x-python",
   "name": "python",
   "nbconvert_exporter": "python",
   "pygments_lexer": "ipython3",
   "version": "3.9.13"
  }
 },
 "nbformat": 4,
 "nbformat_minor": 5
}
